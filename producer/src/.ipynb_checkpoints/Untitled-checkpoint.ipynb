{
 "cells": [
  {
   "cell_type": "code",
   "execution_count": 1,
   "id": "0d170afd-9742-4e63-85fc-6c4f90447a88",
   "metadata": {},
   "outputs": [],
   "source": [
    "import numpy as np\n",
    "import pandas as pd\n",
    "from confluent_kafka import Producer\n",
    "from connect import get_connection\n",
    "from random import randint\n",
    "from simulation import transaktion_factory\n",
    "from time import sleep\n",
    "import socket\n",
    "\n",
    "from sqlalchemy import create_engine, inspect, text\n",
    "\n",
    "from confluent_kafka import Consumer"
   ]
  },
  {
   "cell_type": "code",
   "execution_count": 2,
   "id": "ee318fe6-cfe7-4c45-891f-acb3ef1b5d8d",
   "metadata": {},
   "outputs": [
    {
     "name": "stdout",
     "output_type": "stream",
     "text": [
      "Connection to the localhost for user root created successfully.\n"
     ]
    }
   ],
   "source": [
    "from sqlalchemy import create_engine, inspect, text\n",
    "\n",
    "USER = 'root'\n",
    "PASSWORD = 'root'\n",
    "HOST = 'localhost'          # see yml file\n",
    "PORT = 3307\n",
    "DATABASE = 'test_db_1'\n",
    " \n",
    "\n",
    "def get_connection(database=DATABASE):\n",
    "    return create_engine(\n",
    "        url=\"mysql+pymysql://{0}:{1}@{2}:{3}/{4}\"\\\n",
    "            .format(USER, PASSWORD, HOST, PORT, database)\n",
    "    )\n",
    "\n",
    "engine = get_connection('mysql')\n",
    "with engine.connect() as connection:\n",
    "    insp = inspect(engine)\n",
    "    db_list = insp.get_schema_names()\n",
    "    print(f\"Connection to the {HOST} for user {USER} created successfully.\")\n",
    "    if DATABASE not in db_list:\n",
    "        sql = text(f\"CREATE DATABASE {DATABASE} CHARACTER SET utf8mb4 COLLATE utf8mb4_unicode_ci;\")\n",
    "        result = connection.execute(sql)\n",
    "        if result:\n",
    "            print(f\"Database {DATABASE} created!\")"
   ]
  },
  {
   "cell_type": "code",
   "execution_count": 3,
   "id": "3edb15d4-00f0-428b-92bb-dce8ebb2da05",
   "metadata": {},
   "outputs": [],
   "source": [
    "query_1=\"\"\"\n",
    "DROP TABLE IF EXISTS M_Leihe.D_Buch;\n",
    "\n",
    "CREATE TABLE M_Leihe.D_Buch\n",
    "(\n",
    "ID_Exemplar integer Primary Key not null,\n",
    "Buch_ID integer, \n",
    "Genre varchar(50)\n",
    ");\n",
    "\"\"\"\n",
    "\n",
    "query_2= \"\"\"\n",
    "\n",
    "INSERT INTO M_Leihe.D_Buch\n",
    "SELECT \n",
    " DISTINCT(ID_Exemplar), E.ID_Buch, B.Art  \n",
    "FROM \n",
    " test_db_1.Exemplare AS E\n",
    "JOIN \n",
    " test_db_1.Buch AS B\n",
    "ON \n",
    " E.ID_Buch = B.ID_Buch;\n",
    "\"\"\""
   ]
  },
  {
   "cell_type": "code",
   "execution_count": 4,
   "id": "c2190fee-b041-4a04-b06e-99ca1969f779",
   "metadata": {},
   "outputs": [],
   "source": [
    "from mysql.connector import connect\n",
    "\n",
    "USER = 'root'\n",
    "PASSWORD = 'root'\n",
    "HOST = 'localhost'          # see yml file\n",
    "PORT = 3307\n",
    "#DATABASE='test_db_1'\n",
    "\n",
    "\n",
    "connection = connect(user=USER, password=PASSWORD, host=HOST, port=PORT)#, database=DATABASE)\n",
    "\n",
    "cursor = connection.cursor()\n",
    "\n",
    "cursor.execute(query_1, multi=True)\n",
    "cursor.close() \n",
    "\n",
    "connection = connect(user=USER, password=PASSWORD, host=HOST, port=PORT)\n",
    "cursor = connection.cursor() \n",
    "cursor.execute(query_2, multi=True)\n",
    "\n",
    "connection.commit()"
   ]
  },
  {
   "cell_type": "code",
   "execution_count": null,
   "id": "0dd42f63-eeac-4864-b13f-e15b03731895",
   "metadata": {},
   "outputs": [],
   "source": []
  },
  {
   "cell_type": "code",
   "execution_count": null,
   "id": "56e8bbc8-4e90-4283-9da7-d95d85e00e39",
   "metadata": {},
   "outputs": [],
   "source": []
  }
 ],
 "metadata": {
  "kernelspec": {
   "display_name": "Python 3 (ipykernel)",
   "language": "python",
   "name": "python3"
  },
  "language_info": {
   "codemirror_mode": {
    "name": "ipython",
    "version": 3
   },
   "file_extension": ".py",
   "mimetype": "text/x-python",
   "name": "python",
   "nbconvert_exporter": "python",
   "pygments_lexer": "ipython3",
   "version": "3.11.10"
  }
 },
 "nbformat": 4,
 "nbformat_minor": 5
}
